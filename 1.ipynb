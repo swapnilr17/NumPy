{
 "metadata": {
  "language_info": {
   "codemirror_mode": {
    "name": "ipython",
    "version": 3
   },
   "file_extension": ".py",
   "mimetype": "text/x-python",
   "name": "python",
   "nbconvert_exporter": "python",
   "pygments_lexer": "ipython3",
   "version": "3.6.9-final"
  },
  "orig_nbformat": 2,
  "kernelspec": {
   "name": "python3",
   "display_name": "Python 3.6.9 64-bit",
   "metadata": {
    "interpreter": {
     "hash": "31f2aee4e71d21fbe5cf8b01ff0e069b9275f58929596ceb00d14d90e3e16cd6"
    }
   }
  }
 },
 "nbformat": 4,
 "nbformat_minor": 2,
 "cells": [
  {
   "source": [
    "# Numpy Declaration"
   ],
   "cell_type": "markdown",
   "metadata": {}
  },
  {
   "cell_type": "code",
   "execution_count": 1,
   "metadata": {},
   "outputs": [],
   "source": [
    "import numpy as np"
   ]
  },
  {
   "source": [
    "# Numpy Initialization And Basic Functions"
   ],
   "cell_type": "markdown",
   "metadata": {}
  },
  {
   "cell_type": "code",
   "execution_count": 17,
   "metadata": {},
   "outputs": [
    {
     "output_type": "stream",
     "name": "stdout",
     "text": [
      "[12 14 16]\n1\n(3,)\nint64\n"
     ]
    }
   ],
   "source": [
    "# Initializing the Array array1\n",
    "array1 = np.array([12,14,16])\n",
    "\n",
    "# Print array\n",
    "print(array1)\n",
    "\n",
    "# Print Array Dimensions i.e (1,2,3)\n",
    "print(array1.ndim)\n",
    "\n",
    "# Print Array Shape i.e (Row,Column)\n",
    "print(array1.shape)\n",
    "\n",
    "# Print Array DataType\n",
    "print(array1.dtype)"
   ]
  },
  {
   "cell_type": "code",
   "execution_count": 18,
   "metadata": {},
   "outputs": [
    {
     "output_type": "stream",
     "name": "stdout",
     "text": [
      "[[10  5  7]\n [12  9  8]]\n2\n(2, 3)\nint64\n"
     ]
    }
   ],
   "source": [
    "# initializing the Array array2\n",
    "array2 = np.array([[10,5,7],[12,9,8]])\n",
    "\n",
    "# Print array\n",
    "print(array2)\n",
    "\n",
    "# Print Array Dimensions i.e (1,2,3)\n",
    "print(array2.ndim)\n",
    "\n",
    "# Print Array Shape i.e (Row,Column)\n",
    "print(array2.shape)\n",
    "\n",
    "# Print Array DataType\n",
    "print(array2.dtype)\n"
   ]
  },
  {
   "cell_type": "code",
   "execution_count": null,
   "metadata": {},
   "outputs": [],
   "source": []
  }
 ]
}